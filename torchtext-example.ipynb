{
 "cells": [
  {
   "cell_type": "code",
   "execution_count": 37,
   "metadata": {
    "collapsed": true
   },
   "outputs": [],
   "source": [
    "from torchtext import data"
   ]
  },
  {
   "cell_type": "code",
   "execution_count": 54,
   "metadata": {},
   "outputs": [
    {
     "name": "stdout",
     "output_type": "stream",
     "text": [
      "\n",
      "\u001b[93m    Warning: no model found for 'en'\u001b[0m\n",
      "\n",
      "    Only loading the 'en' tokenizer.\n",
      "\n"
     ]
    }
   ],
   "source": [
    "TEXT = data.Field(tokenize=\"spacy\") #by default tokenize simply splits on spaces, this uses the spaCy tokenizer, but must be installed via `conda install spacy`\n",
    "LABELS = data.Field(pad_token=None, unk_token=None) #don't want the <pad> or <unk> tokens in the labels"
   ]
  },
  {
   "cell_type": "code",
   "execution_count": 55,
   "metadata": {},
   "outputs": [],
   "source": [
    "train, val, test = data.TabularDataset.splits(\n",
    "    path='datasets/sample_text/', train='train.txt',\n",
    "    validation='val.txt', test='test.txt', format='csv',\n",
    "    fields=[('text', TEXT), ('labels', LABELS)])"
   ]
  },
  {
   "cell_type": "code",
   "execution_count": 56,
   "metadata": {},
   "outputs": [
    {
     "name": "stdout",
     "output_type": "stream",
     "text": [
      "{'text': <torchtext.data.field.Field object at 0x7fb4cc34f7b8>, 'labels': <torchtext.data.field.Field object at 0x7fb5143d5828>}\n"
     ]
    }
   ],
   "source": [
    "print(train.fields)"
   ]
  },
  {
   "cell_type": "code",
   "execution_count": 57,
   "metadata": {},
   "outputs": [
    {
     "name": "stdout",
     "output_type": "stream",
     "text": [
      "250\n"
     ]
    }
   ],
   "source": [
    "print(len(train))"
   ]
  },
  {
   "cell_type": "code",
   "execution_count": 58,
   "metadata": {},
   "outputs": [
    {
     "name": "stdout",
     "output_type": "stream",
     "text": [
      "{'text': ['eword1'], 'labels': ['engineering']}\n"
     ]
    }
   ],
   "source": [
    "print(vars(train[0]))"
   ]
  },
  {
   "cell_type": "code",
   "execution_count": 59,
   "metadata": {
    "collapsed": true
   },
   "outputs": [],
   "source": [
    "#w/o bucketing\n",
    "\n",
    "#train_iter, val_iter, test_iter = data.Iterator.splits((train, val, test), #the dataset object to load data from\n",
    "                                                            #batch_size = 3,\n",
    "                                                            #device=-1) #which GPU to use, -1 for CPU, None for default GPU"
   ]
  },
  {
   "cell_type": "code",
   "execution_count": 60,
   "metadata": {
    "collapsed": true
   },
   "outputs": [],
   "source": [
    "#w/ bucketing\n",
    "\n",
    "train_iter, val_iter, test_iter = data.BucketIterator.splits((train, val, test), #the dataset object to load data from\n",
    "                                                            batch_size = 3,\n",
    "                                                            sort_key=lambda x: len(x.text),\n",
    "                                                            device=-1) #which GPU to use, -1 for CPU, None for default GPU"
   ]
  },
  {
   "cell_type": "code",
   "execution_count": 61,
   "metadata": {},
   "outputs": [],
   "source": [
    "TEXT.build_vocab(train.text)\n",
    "LABELS.build_vocab(train.labels)"
   ]
  },
  {
   "cell_type": "code",
   "execution_count": 62,
   "metadata": {},
   "outputs": [
    {
     "data": {
      "text/plain": [
       "Counter({'bword1': 25,\n",
       "         'bword2': 25,\n",
       "         'bword3': 25,\n",
       "         'bword4': 25,\n",
       "         'bword5': 25,\n",
       "         'eword1': 25,\n",
       "         'eword2': 25,\n",
       "         'eword3': 25,\n",
       "         'eword4': 25,\n",
       "         'eword5': 25})"
      ]
     },
     "execution_count": 62,
     "metadata": {},
     "output_type": "execute_result"
    }
   ],
   "source": [
    "TEXT.vocab.freqs"
   ]
  },
  {
   "cell_type": "code",
   "execution_count": 63,
   "metadata": {},
   "outputs": [
    {
     "data": {
      "text/plain": [
       "[('eword1', 25),\n",
       " ('eword2', 25),\n",
       " ('eword3', 25),\n",
       " ('eword4', 25),\n",
       " ('eword5', 25),\n",
       " ('bword1', 25),\n",
       " ('bword2', 25),\n",
       " ('bword3', 25),\n",
       " ('bword4', 25),\n",
       " ('bword5', 25)]"
      ]
     },
     "execution_count": 63,
     "metadata": {},
     "output_type": "execute_result"
    }
   ],
   "source": [
    "TEXT.vocab.freqs.most_common(10)"
   ]
  },
  {
   "cell_type": "code",
   "execution_count": 64,
   "metadata": {},
   "outputs": [
    {
     "data": {
      "text/plain": [
       "['<unk>',\n",
       " '<pad>',\n",
       " 'bword1',\n",
       " 'bword2',\n",
       " 'bword3',\n",
       " 'bword4',\n",
       " 'bword5',\n",
       " 'eword1',\n",
       " 'eword2',\n",
       " 'eword3',\n",
       " 'eword4',\n",
       " 'eword5']"
      ]
     },
     "execution_count": 64,
     "metadata": {},
     "output_type": "execute_result"
    }
   ],
   "source": [
    "TEXT.vocab.itos"
   ]
  },
  {
   "cell_type": "code",
   "execution_count": 49,
   "metadata": {},
   "outputs": [
    {
     "data": {
      "text/plain": [
       "defaultdict(<function torchtext.vocab._default_unk_index>,\n",
       "            {'1': 8,\n",
       "             '2': 9,\n",
       "             '3': 10,\n",
       "             '4': 11,\n",
       "             '5': 12,\n",
       "             '<pad>': 1,\n",
       "             '<unk>': 0,\n",
       "             'b': 6,\n",
       "             'd': 2,\n",
       "             'e': 7,\n",
       "             'o': 3,\n",
       "             'r': 4,\n",
       "             'w': 5})"
      ]
     },
     "execution_count": 49,
     "metadata": {},
     "output_type": "execute_result"
    }
   ],
   "source": [
    "TEXT.vocab.stoi"
   ]
  },
  {
   "cell_type": "code",
   "execution_count": 50,
   "metadata": {},
   "outputs": [
    {
     "name": "stdout",
     "output_type": "stream",
     "text": [
      "['biology', 'engineering']\n",
      "defaultdict(<function _default_unk_index at 0x7fb4d3a68488>, {'biology': 0, 'engineering': 1})\n"
     ]
    }
   ],
   "source": [
    "print(LABELS.vocab.itos)\n",
    "print(LABELS.vocab.stoi)"
   ]
  },
  {
   "cell_type": "code",
   "execution_count": 65,
   "metadata": {},
   "outputs": [
    {
     "name": "stdout",
     "output_type": "stream",
     "text": [
      "Variable containing:\n",
      " 7  4  2\n",
      "[torch.LongTensor of size 1x3]\n",
      "\n",
      "Variable containing:\n",
      " 1  0  0\n",
      "[torch.LongTensor of size 1x3]\n",
      "\n"
     ]
    }
   ],
   "source": [
    "batch = next(iter(train_iter))\n",
    "print(batch.text)\n",
    "print(batch.labels)"
   ]
  },
  {
   "cell_type": "code",
   "execution_count": 52,
   "metadata": {
    "scrolled": true
   },
   "outputs": [
    {
     "name": "stdout",
     "output_type": "stream",
     "text": [
      "Variable containing:\n",
      "  7   6   7\n",
      "  5   5   5\n",
      "  3   3   3\n",
      "  4   4   4\n",
      "  2   2   2\n",
      "  8   8  12\n",
      "[torch.LongTensor of size 6x3]\n",
      "\n",
      "Variable containing:\n",
      " 1  0  1\n",
      "[torch.LongTensor of size 1x3]\n",
      "\n"
     ]
    }
   ],
   "source": [
    "batch = next(iter(train_iter))\n",
    "print(batch.text)\n",
    "print(batch.labels)"
   ]
  },
  {
   "cell_type": "code",
   "execution_count": 53,
   "metadata": {},
   "outputs": [
    {
     "name": "stdout",
     "output_type": "stream",
     "text": [
      "Variable containing:\n",
      "  6   7   6\n",
      "  5   5   5\n",
      "  3   3   3\n",
      "  4   4   4\n",
      "  2   2   2\n",
      "  9  12   8\n",
      "[torch.LongTensor of size 6x3]\n",
      "\n",
      "Variable containing:\n",
      " 0  1  0\n",
      "[torch.LongTensor of size 1x3]\n",
      "\n"
     ]
    }
   ],
   "source": [
    "batch = next(iter(train_iter))\n",
    "print(batch.text)\n",
    "print(batch.labels)"
   ]
  },
  {
   "cell_type": "code",
   "execution_count": null,
   "metadata": {
    "collapsed": true
   },
   "outputs": [],
   "source": []
  },
  {
   "cell_type": "code",
   "execution_count": null,
   "metadata": {
    "collapsed": true
   },
   "outputs": [],
   "source": []
  },
  {
   "cell_type": "code",
   "execution_count": null,
   "metadata": {
    "collapsed": true
   },
   "outputs": [],
   "source": []
  },
  {
   "cell_type": "code",
   "execution_count": null,
   "metadata": {
    "collapsed": true
   },
   "outputs": [],
   "source": []
  },
  {
   "cell_type": "code",
   "execution_count": null,
   "metadata": {
    "collapsed": true
   },
   "outputs": [],
   "source": []
  },
  {
   "cell_type": "code",
   "execution_count": null,
   "metadata": {
    "collapsed": true
   },
   "outputs": [],
   "source": []
  }
 ],
 "metadata": {
  "kernelspec": {
   "display_name": "Python 3",
   "language": "python",
   "name": "python3"
  },
  "language_info": {
   "codemirror_mode": {
    "name": "ipython",
    "version": 3
   },
   "file_extension": ".py",
   "mimetype": "text/x-python",
   "name": "python",
   "nbconvert_exporter": "python",
   "pygments_lexer": "ipython3",
   "version": "3.6.2"
  }
 },
 "nbformat": 4,
 "nbformat_minor": 2
}
