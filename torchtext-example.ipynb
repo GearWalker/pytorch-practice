{
 "cells": [
  {
   "cell_type": "code",
   "execution_count": 5,
   "metadata": {
    "collapsed": true
   },
   "outputs": [],
   "source": [
    "from torchtext import data"
   ]
  },
  {
   "cell_type": "code",
   "execution_count": 7,
   "metadata": {},
   "outputs": [
    {
     "name": "stdout",
     "output_type": "stream",
     "text": [
      "\n",
      "\u001b[93m    Warning: no model found for 'en'\u001b[0m\n",
      "\n",
      "    Only loading the 'en' tokenizer.\n",
      "\n"
     ]
    }
   ],
   "source": [
    "TEXT = data.Field(tokenize=\"spacy\") #by default tokenize simply splits on spaces, this uses the spaCy tokenizer, but must be installed via `conda install spacy`\n",
    "LABELS = data.Field(pad_token=None, unk_token=None) #don't want the <pad> or <unk> tokens in the labels"
   ]
  },
  {
   "cell_type": "code",
   "execution_count": 8,
   "metadata": {
    "collapsed": true
   },
   "outputs": [],
   "source": [
    "train, val, test = data.TabularDataset.splits(\n",
    "    path='datasets/sample_text/', train='sample_text.train',\n",
    "    validation='sample_text.val', test='sample_text.test', format='csv',\n",
    "    fields=[('text', TEXT), ('labels', LABELS)])"
   ]
  },
  {
   "cell_type": "code",
   "execution_count": 9,
   "metadata": {},
   "outputs": [
    {
     "name": "stdout",
     "output_type": "stream",
     "text": [
      "{'text': <torchtext.data.field.Field object at 0x7f87246d3240>, 'labels': <torchtext.data.field.Field object at 0x7f87246d4860>}\n"
     ]
    }
   ],
   "source": [
    "print(train.fields)"
   ]
  },
  {
   "cell_type": "code",
   "execution_count": 10,
   "metadata": {},
   "outputs": [
    {
     "name": "stdout",
     "output_type": "stream",
     "text": [
      "6\n"
     ]
    }
   ],
   "source": [
    "print(len(train))"
   ]
  },
  {
   "cell_type": "code",
   "execution_count": 11,
   "metadata": {},
   "outputs": [
    {
     "name": "stdout",
     "output_type": "stream",
     "text": [
      "{'text': ['ruben', 'is', 'good'], 'labels': ['1']}\n"
     ]
    }
   ],
   "source": [
    "print(vars(train[0]))"
   ]
  },
  {
   "cell_type": "code",
   "execution_count": 32,
   "metadata": {
    "collapsed": true
   },
   "outputs": [],
   "source": [
    "train_iter, val_iter, test_iter = data.Iterator.splits((train, val, test), #the dataset object to load data from\n",
    "                                                            batch_size = 2, #\n",
    "                                                            shuffle=True,\n",
    "                                                            repeat=False,\n",
    "                                                            device=-1) #which GPU to use, -1 for CPU, None for default GPU"
   ]
  },
  {
   "cell_type": "code",
   "execution_count": 33,
   "metadata": {
    "collapsed": true
   },
   "outputs": [],
   "source": [
    "TEXT.build_vocab(train.text)\n",
    "LABELS.build_vocab(train.labels)"
   ]
  },
  {
   "cell_type": "code",
   "execution_count": 34,
   "metadata": {},
   "outputs": [
    {
     "data": {
      "text/plain": [
       "Counter({'a': 2,\n",
       "         'and': 1,\n",
       "         'bad': 1,\n",
       "         'cool': 2,\n",
       "         'day': 1,\n",
       "         'good': 1,\n",
       "         'has': 1,\n",
       "         'hat': 1,\n",
       "         'i': 1,\n",
       "         'is': 5,\n",
       "         'it': 1,\n",
       "         'like': 1,\n",
       "         'loser': 1,\n",
       "         \"n't\": 1,\n",
       "         'nice': 1,\n",
       "         'one': 1,\n",
       "         'ruben': 6,\n",
       "         'to': 1,\n",
       "         'wear': 1,\n",
       "         'would': 1})"
      ]
     },
     "execution_count": 34,
     "metadata": {},
     "output_type": "execute_result"
    }
   ],
   "source": [
    "TEXT.vocab.freqs"
   ]
  },
  {
   "cell_type": "code",
   "execution_count": 35,
   "metadata": {},
   "outputs": [
    {
     "data": {
      "text/plain": [
       "[('ruben', 6),\n",
       " ('is', 5),\n",
       " ('cool', 2),\n",
       " ('a', 2),\n",
       " ('good', 1),\n",
       " ('bad', 1),\n",
       " ('loser', 1),\n",
       " (\"n't\", 1),\n",
       " ('has', 1),\n",
       " ('nice', 1)]"
      ]
     },
     "execution_count": 35,
     "metadata": {},
     "output_type": "execute_result"
    }
   ],
   "source": [
    "TEXT.vocab.freqs.most_common(10)"
   ]
  },
  {
   "cell_type": "code",
   "execution_count": 36,
   "metadata": {},
   "outputs": [
    {
     "data": {
      "text/plain": [
       "['<unk>',\n",
       " '<pad>',\n",
       " 'ruben',\n",
       " 'is',\n",
       " 'a',\n",
       " 'cool',\n",
       " 'and',\n",
       " 'bad',\n",
       " 'day',\n",
       " 'good',\n",
       " 'has',\n",
       " 'hat',\n",
       " 'i',\n",
       " 'it',\n",
       " 'like',\n",
       " 'loser',\n",
       " \"n't\",\n",
       " 'nice',\n",
       " 'one',\n",
       " 'to',\n",
       " 'wear',\n",
       " 'would']"
      ]
     },
     "execution_count": 36,
     "metadata": {},
     "output_type": "execute_result"
    }
   ],
   "source": [
    "TEXT.vocab.itos"
   ]
  },
  {
   "cell_type": "code",
   "execution_count": 37,
   "metadata": {},
   "outputs": [
    {
     "data": {
      "text/plain": [
       "defaultdict(<function torchtext.vocab._default_unk_index>,\n",
       "            {'<pad>': 1,\n",
       "             '<unk>': 0,\n",
       "             'a': 4,\n",
       "             'and': 6,\n",
       "             'bad': 7,\n",
       "             'cool': 5,\n",
       "             'day': 8,\n",
       "             'good': 9,\n",
       "             'has': 10,\n",
       "             'hat': 11,\n",
       "             'i': 12,\n",
       "             'is': 3,\n",
       "             'it': 13,\n",
       "             'like': 14,\n",
       "             'loser': 15,\n",
       "             \"n't\": 16,\n",
       "             'nice': 17,\n",
       "             'one': 18,\n",
       "             'ruben': 2,\n",
       "             'to': 19,\n",
       "             'wear': 20,\n",
       "             'would': 21})"
      ]
     },
     "execution_count": 37,
     "metadata": {},
     "output_type": "execute_result"
    }
   ],
   "source": [
    "TEXT.vocab.stoi"
   ]
  },
  {
   "cell_type": "code",
   "execution_count": 38,
   "metadata": {},
   "outputs": [
    {
     "data": {
      "text/plain": [
       "['0', '1']"
      ]
     },
     "execution_count": 38,
     "metadata": {},
     "output_type": "execute_result"
    }
   ],
   "source": [
    "LABELS.vocab.itos"
   ]
  },
  {
   "cell_type": "code",
   "execution_count": 39,
   "metadata": {},
   "outputs": [
    {
     "name": "stdout",
     "output_type": "stream",
     "text": [
      "Variable containing:\n",
      "    2     2\n",
      "    3    10\n",
      "    5     4\n",
      "    1    17\n",
      "    1    11\n",
      "    1     6\n",
      "    1    12\n",
      "    1    21\n",
      "    1    14\n",
      "    1    19\n",
      "    1    20\n",
      "    1    13\n",
      "    1    18\n",
      "    1     8\n",
      "[torch.LongTensor of size 14x2]\n",
      "\n",
      "Variable containing:\n",
      " 1  1\n",
      "[torch.LongTensor of size 1x2]\n",
      "\n"
     ]
    }
   ],
   "source": [
    "batch = next(iter(train_iter))\n",
    "print(batch.text)\n",
    "print(batch.labels)"
   ]
  },
  {
   "cell_type": "code",
   "execution_count": 40,
   "metadata": {
    "scrolled": true
   },
   "outputs": [
    {
     "name": "stdout",
     "output_type": "stream",
     "text": [
      "Variable containing:\n",
      "  2   2\n",
      "  3   3\n",
      "  5   4\n",
      "  1  15\n",
      "[torch.LongTensor of size 4x2]\n",
      "\n",
      "Variable containing:\n",
      " 1  0\n",
      "[torch.LongTensor of size 1x2]\n",
      "\n"
     ]
    }
   ],
   "source": [
    "batch = next(iter(train_iter))\n",
    "print(batch.text)\n",
    "print(batch.labels)"
   ]
  },
  {
   "cell_type": "code",
   "execution_count": 41,
   "metadata": {},
   "outputs": [
    {
     "name": "stdout",
     "output_type": "stream",
     "text": [
      "Variable containing:\n",
      "    2     2\n",
      "   10     3\n",
      "    4     7\n",
      "   17     1\n",
      "   11     1\n",
      "    6     1\n",
      "   12     1\n",
      "   21     1\n",
      "   14     1\n",
      "   19     1\n",
      "   20     1\n",
      "   13     1\n",
      "   18     1\n",
      "    8     1\n",
      "[torch.LongTensor of size 14x2]\n",
      "\n",
      "Variable containing:\n",
      " 1  0\n",
      "[torch.LongTensor of size 1x2]\n",
      "\n"
     ]
    }
   ],
   "source": [
    "batch = next(iter(train_iter))\n",
    "print(batch.text)\n",
    "print(batch.labels)"
   ]
  },
  {
   "cell_type": "code",
   "execution_count": null,
   "metadata": {
    "collapsed": true
   },
   "outputs": [],
   "source": []
  },
  {
   "cell_type": "code",
   "execution_count": null,
   "metadata": {
    "collapsed": true
   },
   "outputs": [],
   "source": []
  },
  {
   "cell_type": "code",
   "execution_count": null,
   "metadata": {
    "collapsed": true
   },
   "outputs": [],
   "source": []
  },
  {
   "cell_type": "code",
   "execution_count": null,
   "metadata": {
    "collapsed": true
   },
   "outputs": [],
   "source": []
  },
  {
   "cell_type": "code",
   "execution_count": null,
   "metadata": {
    "collapsed": true
   },
   "outputs": [],
   "source": []
  },
  {
   "cell_type": "code",
   "execution_count": null,
   "metadata": {
    "collapsed": true
   },
   "outputs": [],
   "source": []
  }
 ],
 "metadata": {
  "kernelspec": {
   "display_name": "Python 3",
   "language": "python",
   "name": "python3"
  },
  "language_info": {
   "codemirror_mode": {
    "name": "ipython",
    "version": 3
   },
   "file_extension": ".py",
   "mimetype": "text/x-python",
   "name": "python",
   "nbconvert_exporter": "python",
   "pygments_lexer": "ipython3",
   "version": "3.6.2"
  }
 },
 "nbformat": 4,
 "nbformat_minor": 2
}
