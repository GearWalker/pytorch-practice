{
 "cells": [
  {
   "cell_type": "code",
   "execution_count": 1,
   "metadata": {
    "collapsed": true
   },
   "outputs": [],
   "source": [
    "import torch\n",
    "import torch.nn as nn\n",
    "import torch.optim as optim\n",
    "from torch.autograd import Variable\n",
    "import torch.nn.functional as F\n",
    "\n",
    "import numpy as np"
   ]
  },
  {
   "cell_type": "code",
   "execution_count": 2,
   "metadata": {
    "collapsed": true
   },
   "outputs": [],
   "source": [
    "#get data\n",
    "\n",
    "from data_utils import load_fashion_mnist\n",
    "\n",
    "trX, teX, _, _ = load_fashion_mnist(onehot=False)"
   ]
  },
  {
   "cell_type": "code",
   "execution_count": 3,
   "metadata": {},
   "outputs": [
    {
     "data": {
      "image/png": "[encoded data removed]",
      "text/plain": [
       "<matplotlib.figure.Figure at 0x7f81db6185c0>"
      ]
     },
     "metadata": {},
     "output_type": "display_data"
    }
   ],
   "source": [
    "#view data\n",
    "\n",
    "import matplotlib.pyplot as plt\n",
    "\n",
    "plt.imshow(trX[0].reshape(28,28), cmap=plt.get_cmap('gray')) #need cmap thing or else is weird colour\n",
    "plt.show()"
   ]
  },
  {
   "cell_type": "code",
   "execution_count": 4,
   "metadata": {
    "collapsed": true
   },
   "outputs": [],
   "source": [
    "#convert from numpy arrays to torch tensors\n",
    "\n",
    "trX = torch.from_numpy(trX).float()\n",
    "teX = torch.from_numpy(teX).float()"
   ]
  },
  {
   "cell_type": "code",
   "execution_count": 5,
   "metadata": {},
   "outputs": [],
   "source": [
    "#create model\n",
    "\n",
    "class AutoEncoder(nn.Module):\n",
    "    def __init__(self, input_size):\n",
    "        super(AutoEncoder, self).__init__()\n",
    "        \n",
    "        # to find the size (width x height) of a square image leaving a conv layer, the equation is:\n",
    "        # Wo = ((Wi−F+2*P)/S)+1, \n",
    "        # Wo is the width of the image output\n",
    "        # Wi is the width of the image going in\n",
    "        # F is the filter width (aka 'kernel size')\n",
    "        # P is the padding\n",
    "        # S is the stride\n",
    "        \n",
    "        self.enc_conv1 = nn.Conv2d(in_channels=1, out_channels=16, kernel_size=3, stride=3, padding=1)\n",
    "        # Wo = ((28-3+2*1)/3)+1 = 10\n",
    "        self.enc_conv2 = nn.Conv2d(in_channels=16, out_channels=8, kernel_size=3, stride=2, padding=1)\n",
    "        # Wo = ((5-3+2*1)/2)+1 = 3\n",
    "        \n",
    "        # to find the size (width x height) of a square image leaving a conv-transpose layer, the equation is:\n",
    "        # Wo = (Wi-1)*S-2*P+F\n",
    "\n",
    "        self.dec_conv1 = nn.ConvTranspose2d(in_channels=8, out_channels=16, kernel_size=3, stride=2)\n",
    "        # Wo = (2-1)*2-2*0+3 = 5\n",
    "        self.dec_conv2 = nn.ConvTranspose2d(in_channels=16, out_channels=8, kernel_size=5, stride=3, padding=1)\n",
    "        # Wo = (5-1)*3-2*1+5 = 15\n",
    "        self.dec_conv3 = nn.ConvTranspose2d(in_channels=8, out_channels=1, kernel_size=2, stride=2, padding=1)\n",
    "        # Wo = (15-1)*2-2*1+2 = 28\n",
    "        \n",
    "        #for pooling layers\n",
    "        # Wo = floor((Wi+2*P-(F-1)-1)/S+1) \n",
    "        \n",
    "    def forward(self, x):\n",
    "        #x = [32, 1, 28, 28]\n",
    "        x = self.enc_conv1(x)\n",
    "        #x = [32, 16, 10, 10]\n",
    "        x = F.relu(x)\n",
    "        x = F.max_pool2d(x, kernel_size=2, stride=2)\n",
    "        #x = [32, 16, 5, 5]\n",
    "        x = self.enc_conv2(x)\n",
    "        #x = [32, 8, 3, 3]\n",
    "        x = F.relu(x)\n",
    "        x = F.max_pool2d(x, kernel_size=2, stride=1)\n",
    "        #x = [32, 8, 2, 2]\n",
    "        encoded = x\n",
    "        x = self.dec_conv1(x)\n",
    "        #x = [32, 16, 5, 5]\n",
    "        x = F.relu(x)\n",
    "        x = self.dec_conv2(x)\n",
    "        #x = [32, 8, 15, 15]\n",
    "        x = F.relu(x)\n",
    "        x = self.dec_conv3(x)\n",
    "        #x = [32, 1, 28, 28]\n",
    "        decoded = F.sigmoid(x)\n",
    "        return encoded, decoded"
   ]
  },
  {
   "cell_type": "code",
   "execution_count": 6,
   "metadata": {},
   "outputs": [],
   "source": [
    "#create instance of AutoEncoder class\n",
    "\n",
    "autoencoder = AutoEncoder(784)"
   ]
  },
  {
   "cell_type": "code",
   "execution_count": 7,
   "metadata": {
    "collapsed": true
   },
   "outputs": [],
   "source": [
    "#define some parameters\n",
    "\n",
    "epochs = 10\n",
    "batch_size = 32\n",
    "learning_rate = 0.001\n",
    "momentum = 0.9"
   ]
  },
  {
   "cell_type": "code",
   "execution_count": 8,
   "metadata": {
    "collapsed": true
   },
   "outputs": [],
   "source": [
    "#for plotting\n",
    "\n",
    "plot_loss = []\n",
    "plot_correct = []"
   ]
  },
  {
   "cell_type": "code",
   "execution_count": 9,
   "metadata": {},
   "outputs": [],
   "source": [
    "#define loss and optimizer\n",
    "\n",
    "criterion = nn.MSELoss()\n",
    "optimizer = optim.Adam(autoencoder.parameters(), lr=learning_rate)"
   ]
  },
  {
   "cell_type": "code",
   "execution_count": null,
   "metadata": {
    "collapsed": true
   },
   "outputs": [],
   "source": [
    "#training function\n",
    "\n",
    "def train(model, criterion, optimizer, x, y):\n",
    "    x = Variable(x, requires_grad=False)\n",
    "    y = Variable(y, requires_grad=False)\n",
    "    \n",
    "    # Reset gradient\n",
    "    optimizer.zero_grad()\n",
    "\n",
    "    # Forward\n",
    "    _, decoded = model.forward(x)\n",
    "    loss = criterion(decoded, y)\n",
    "\n",
    "    # Backward\n",
    "    loss.backward()\n",
    "\n",
    "    # Update parameters\n",
    "    optimizer.step()\n",
    "\n",
    "    return loss.data[0]"
   ]
  },
  {
   "cell_type": "code",
   "execution_count": null,
   "metadata": {},
   "outputs": [
    {
     "name": "stdout",
     "output_type": "stream",
     "text": [
      "Epoch 01, loss = 0.042735\n",
      "Epoch 02, loss = 0.025688\n",
      "Epoch 03, loss = 0.022542\n",
      "Epoch 04, loss = 0.021145\n",
      "Epoch 05, loss = 0.020286\n",
      "Epoch 06, loss = 0.019674\n"
     ]
    }
   ],
   "source": [
    "#run the training\n",
    "\n",
    "num_examples = trX.shape[0]\n",
    "num_batches = num_examples // batch_size\n",
    "\n",
    "#need to reshape to 4D to feed into convolutional neural net\n",
    "trX = trX.view(-1, 1, 28, 28) #from [60000,784] to [60000, 1, 28, 28], the '1' is the number of colour channels\n",
    "teX = teX.view(-1, 1, 28, 28)\n",
    "\n",
    "for e in range(1, epochs+1):\n",
    "    loss = 0.\n",
    "    for k in range(num_batches):\n",
    "        start, end = k * batch_size, (k + 1) * batch_size\n",
    "        loss += train(autoencoder, criterion, optimizer, trX[start:end], trX[start:end])\n",
    "    plot_loss.append(loss/num_batches)\n",
    "    print(\"Epoch %02d, loss = %f\" % (e, loss / num_batches))"
   ]
  },
  {
   "cell_type": "code",
   "execution_count": null,
   "metadata": {},
   "outputs": [],
   "source": [
    "plt.plot(plot_loss)\n",
    "plt.xlabel('Epoch')\n",
    "plt.ylabel('Avg. Loss per Epoch (on Training Set)')\n",
    "plt.show()"
   ]
  },
  {
   "cell_type": "code",
   "execution_count": null,
   "metadata": {},
   "outputs": [],
   "source": [
    "teX = Variable(teX, requires_grad=False)"
   ]
  },
  {
   "cell_type": "code",
   "execution_count": null,
   "metadata": {
    "collapsed": true
   },
   "outputs": [],
   "source": [
    "_, decoded = autoencoder.forward(teX)"
   ]
  },
  {
   "cell_type": "code",
   "execution_count": null,
   "metadata": {},
   "outputs": [],
   "source": [
    "#view some\n",
    "\n",
    "num_display = 5\n",
    "\n",
    "fig = plt.figure()\n",
    "\n",
    "for i in range(num_display):\n",
    "    fig.add_subplot(1,num_display,i+1)\n",
    "    plt.imshow(np.reshape(teX[i+5].data.numpy(), (28,28)), cmap=plt.get_cmap('gray'))\n",
    "    \n",
    "fig = plt.figure()\n",
    "\n",
    "for i in range(num_display):\n",
    "    fig.add_subplot(1,num_display,i+1)\n",
    "    plt.imshow(np.reshape(decoded[i+5].data.numpy(), (28,28)), cmap=plt.get_cmap('gray'))\n",
    "    \n",
    "plt.show()"
   ]
  }
 ],
 "metadata": {
  "kernelspec": {
   "display_name": "Python 3",
   "language": "python",
   "name": "python3"
  },
  "language_info": {
   "codemirror_mode": {
    "name": "ipython",
    "version": 3
   },
   "file_extension": ".py",
   "mimetype": "text/x-python",
   "name": "python",
   "nbconvert_exporter": "python",
   "pygments_lexer": "ipython3",
   "version": "3.6.2"
  }
 },
 "nbformat": 4,
 "nbformat_minor": 2
}
