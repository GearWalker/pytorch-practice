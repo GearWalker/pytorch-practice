{
 "cells": [
  {
   "cell_type": "markdown",
   "metadata": {},
   "source": [
    "https://github.com/Shawn1993/cnn-text-classification-pytorch/"
   ]
  },
  {
   "cell_type": "code",
   "execution_count": 4,
   "metadata": {
    "collapsed": true
   },
   "outputs": [],
   "source": [
    "#imports\n",
    "\n",
    "import torch\n",
    "import torch.nn as nn\n",
    "import torch.optim as optim\n",
    "from torch.autograd import Variable\n",
    "import torch.nn.functional as F"
   ]
  },
  {
   "cell_type": "code",
   "execution_count": 59,
   "metadata": {
    "collapsed": true
   },
   "outputs": [],
   "source": [
    "#list of engineering words and biological words\n",
    "\n",
    "e_words = ['bridge', 'engineer', 'structure', 'tooling', 'concrete']\n",
    "b_words = ['cell', 'biological', 'membrane', 'deforestationanizism', 'skin']\n",
    "\n",
    "#convert each word into a list of characters\n",
    "\n",
    "e_words = [list(e) for e in e_words]\n",
    "b_words = [list(b) for b in b_words]"
   ]
  },
  {
   "cell_type": "code",
   "execution_count": 60,
   "metadata": {},
   "outputs": [
    {
     "name": "stdout",
     "output_type": "stream",
     "text": [
      "20\n"
     ]
    }
   ],
   "source": [
    "#find the maximum length of a word within all categories\n",
    "\n",
    "e_and_b = e_words + b_words\n",
    "\n",
    "max_len = max([len(w) for w in e_and_b])\n",
    "\n",
    "print(max_len)"
   ]
  },
  {
   "cell_type": "code",
   "execution_count": 61,
   "metadata": {
    "collapsed": true
   },
   "outputs": [],
   "source": [
    "#pad all words (represented by list of characters) to the maximum length as CNN needs all the same length\n",
    "\n",
    "for i, _ in enumerate(e_words):\n",
    "    while len(e_words[i]) < max_len:\n",
    "        e_words[i].append(\"<PAD>\")\n",
    "        \n",
    "for i, _ in enumerate(b_words):\n",
    "    while len(b_words[i]) < max_len:\n",
    "        b_words[i].append(\"<PAD>\")"
   ]
  },
  {
   "cell_type": "code",
   "execution_count": 62,
   "metadata": {},
   "outputs": [
    {
     "name": "stdout",
     "output_type": "stream",
     "text": [
      "['b', 'r', 'i', 'd', 'g', 'e', '<PAD>', '<PAD>', '<PAD>', '<PAD>', '<PAD>', '<PAD>', '<PAD>', '<PAD>', '<PAD>', '<PAD>', '<PAD>', '<PAD>', '<PAD>', '<PAD>']\n",
      "['e', 'n', 'g', 'i', 'n', 'e', 'e', 'r', '<PAD>', '<PAD>', '<PAD>', '<PAD>', '<PAD>', '<PAD>', '<PAD>', '<PAD>', '<PAD>', '<PAD>', '<PAD>', '<PAD>']\n",
      "['s', 't', 'r', 'u', 'c', 't', 'u', 'r', 'e', '<PAD>', '<PAD>', '<PAD>', '<PAD>', '<PAD>', '<PAD>', '<PAD>', '<PAD>', '<PAD>', '<PAD>', '<PAD>']\n",
      "['t', 'o', 'o', 'l', 'i', 'n', 'g', '<PAD>', '<PAD>', '<PAD>', '<PAD>', '<PAD>', '<PAD>', '<PAD>', '<PAD>', '<PAD>', '<PAD>', '<PAD>', '<PAD>', '<PAD>']\n",
      "['c', 'o', 'n', 'c', 'r', 'e', 't', 'e', '<PAD>', '<PAD>', '<PAD>', '<PAD>', '<PAD>', '<PAD>', '<PAD>', '<PAD>', '<PAD>', '<PAD>', '<PAD>', '<PAD>']\n",
      "['c', 'e', 'l', 'l', '<PAD>', '<PAD>', '<PAD>', '<PAD>', '<PAD>', '<PAD>', '<PAD>', '<PAD>', '<PAD>', '<PAD>', '<PAD>', '<PAD>', '<PAD>', '<PAD>', '<PAD>', '<PAD>']\n",
      "['b', 'i', 'o', 'l', 'o', 'g', 'i', 'c', 'a', 'l', '<PAD>', '<PAD>', '<PAD>', '<PAD>', '<PAD>', '<PAD>', '<PAD>', '<PAD>', '<PAD>', '<PAD>']\n",
      "['m', 'e', 'm', 'b', 'r', 'a', 'n', 'e', '<PAD>', '<PAD>', '<PAD>', '<PAD>', '<PAD>', '<PAD>', '<PAD>', '<PAD>', '<PAD>', '<PAD>', '<PAD>', '<PAD>']\n",
      "['d', 'e', 'f', 'o', 'r', 'e', 's', 't', 'a', 't', 'i', 'o', 'n', 'a', 'n', 'i', 'z', 'i', 's', 'm']\n",
      "['s', 'k', 'i', 'n', '<PAD>', '<PAD>', '<PAD>', '<PAD>', '<PAD>', '<PAD>', '<PAD>', '<PAD>', '<PAD>', '<PAD>', '<PAD>', '<PAD>', '<PAD>', '<PAD>', '<PAD>', '<PAD>']\n"
     ]
    }
   ],
   "source": [
    "#check they are all maximum length\n",
    "\n",
    "for e in e_words:\n",
    "    print(e)\n",
    "    assert len(e) == max_len\n",
    "    \n",
    "for b in b_words:\n",
    "    print(b)\n",
    "    assert len(b) == max_len"
   ]
  },
  {
   "cell_type": "code",
   "execution_count": 63,
   "metadata": {},
   "outputs": [
    {
     "name": "stdout",
     "output_type": "stream",
     "text": [
      "{'o', 'e', 'k', 'r', 'z', 'i', 'd', 'a', '<PAD>', 'n', 's', 't', 'u', 'm', 'f', 'c', 'g', 'b', 'l'}\n"
     ]
    }
   ],
   "source": [
    "#build a vocabulary word\n",
    "\n",
    "vocab = set()\n",
    "\n",
    "e_and_b = e_words + b_words\n",
    "\n",
    "for eb in e_and_b:\n",
    "    vocab.update(eb)\n",
    "    \n",
    "print(vocab)"
   ]
  },
  {
   "cell_type": "code",
   "execution_count": 64,
   "metadata": {},
   "outputs": [
    {
     "name": "stdout",
     "output_type": "stream",
     "text": [
      "{'o': 0, 'e': 1, 'k': 2, 'r': 3, 'z': 4, 'i': 5, 'd': 6, 'a': 7, '<PAD>': 8, 'n': 9, 's': 10, 't': 11, 'u': 12, 'm': 13, 'f': 14, 'c': 15, 'g': 16, 'b': 17, 'l': 18}\n",
      "{0: 'o', 1: 'e', 2: 'k', 3: 'r', 4: 'z', 5: 'i', 6: 'd', 7: 'a', 8: '<PAD>', 9: 'n', 10: 's', 11: 't', 12: 'u', 13: 'm', 14: 'f', 15: 'c', 16: 'g', 17: 'b', 18: 'l'}\n"
     ]
    }
   ],
   "source": [
    "#create a look-up-table between characters and indices and back\n",
    "\n",
    "char2idx = {c:i for i,c in enumerate(vocab)}\n",
    "idx2char = {i:c for i,c in enumerate(vocab)}\n",
    "\n",
    "print(char2idx)\n",
    "print(idx2char)"
   ]
  },
  {
   "cell_type": "code",
   "execution_count": 65,
   "metadata": {},
   "outputs": [
    {
     "name": "stdout",
     "output_type": "stream",
     "text": [
      "['c', 'e', 'l', 'l', '<PAD>', '<PAD>', '<PAD>', '<PAD>', '<PAD>', '<PAD>', '<PAD>', '<PAD>', '<PAD>', '<PAD>', '<PAD>', '<PAD>', '<PAD>', '<PAD>', '<PAD>', '<PAD>']\n",
      "[15, 1, 18, 18, 8, 8, 8, 8, 8, 8, 8, 8, 8, 8, 8, 8, 8, 8, 8, 8]\n",
      "['b', 'i', 'o', 'l', 'o', 'g', 'i', 'c', 'a', 'l', '<PAD>', '<PAD>', '<PAD>', '<PAD>', '<PAD>', '<PAD>', '<PAD>', '<PAD>', '<PAD>', '<PAD>']\n",
      "[17, 5, 0, 18, 0, 16, 5, 15, 7, 18, 8, 8, 8, 8, 8, 8, 8, 8, 8, 8]\n",
      "['m', 'e', 'm', 'b', 'r', 'a', 'n', 'e', '<PAD>', '<PAD>', '<PAD>', '<PAD>', '<PAD>', '<PAD>', '<PAD>', '<PAD>', '<PAD>', '<PAD>', '<PAD>', '<PAD>']\n",
      "[13, 1, 13, 17, 3, 7, 9, 1, 8, 8, 8, 8, 8, 8, 8, 8, 8, 8, 8, 8]\n",
      "['d', 'e', 'f', 'o', 'r', 'e', 's', 't', 'a', 't', 'i', 'o', 'n', 'a', 'n', 'i', 'z', 'i', 's', 'm']\n",
      "[6, 1, 14, 0, 3, 1, 10, 11, 7, 11, 5, 0, 9, 7, 9, 5, 4, 5, 10, 13]\n",
      "['s', 'k', 'i', 'n', '<PAD>', '<PAD>', '<PAD>', '<PAD>', '<PAD>', '<PAD>', '<PAD>', '<PAD>', '<PAD>', '<PAD>', '<PAD>', '<PAD>', '<PAD>', '<PAD>', '<PAD>', '<PAD>']\n",
      "[10, 2, 5, 9, 8, 8, 8, 8, 8, 8, 8, 8, 8, 8, 8, 8, 8, 8, 8, 8]\n"
     ]
    }
   ],
   "source": [
    "#words (as list of characters) are now represented as list of indices\n",
    "\n",
    "e_index = []\n",
    "b_index = []\n",
    "\n",
    "for e in e_words:\n",
    "    ei = [char2idx[c] for c in e]\n",
    "    e_index.append(ei)\n",
    "    \n",
    "for b in b_words:\n",
    "    bi = [char2idx[c] for c in b]\n",
    "    b_index.append(bi)\n",
    "    \n",
    "for i, _ in enumerate(b_words):\n",
    "    print(b_words[i])\n",
    "    print(b_index[i])"
   ]
  },
  {
   "cell_type": "code",
   "execution_count": 66,
   "metadata": {},
   "outputs": [
    {
     "name": "stdout",
     "output_type": "stream",
     "text": [
      "[[17, 3, 5, 6, 16, 1, 8, 8, 8, 8, 8, 8, 8, 8, 8, 8, 8, 8, 8, 8], 0]\n"
     ]
    }
   ],
   "source": [
    "#build the dataset which each element being: [[indices], class]\n",
    "\n",
    "data = []\n",
    "\n",
    "for ei in e_index:\n",
    "    data.append([ei, 0]) #engineering = 0\n",
    "for bi in b_index:\n",
    "    data.append([bi, 1]) #biological= 1\n",
    "    \n",
    "print(data[0])"
   ]
  },
  {
   "cell_type": "code",
   "execution_count": 95,
   "metadata": {
    "collapsed": true
   },
   "outputs": [],
   "source": [
    "#create model\n",
    "\n",
    "class Net(nn.Module):\n",
    "    def __init__(self, vocab_size, max_len, embedding_size, num_channels, output_size):\n",
    "        super(Net, self).__init__()\n",
    "        \n",
    "        #embedding layer to turn indices into vectors\n",
    "        self.embedding = nn.Embedding(vocab_size, embedding_size)\n",
    "        \n",
    "        #pass 3 convolutional layers over the embedding matrix with kernel sizes of 3, 4 and 5\n",
    "        self.conv1_3 = nn.Conv2d(in_channels=1, out_channels=num_channels, kernel_size=(3,embedding_size)) #kernel_size is HxW\n",
    "        self.conv1_4 = nn.Conv2d(in_channels=1, out_channels=num_channels, kernel_size=(4,embedding_size))\n",
    "        self.conv1_5 = nn.Conv2d(in_channels=1, out_channels=num_channels, kernel_size=(5,embedding_size))\n",
    "        \n",
    "        #linear layer from the concatenated convolutional layers to the output\n",
    "        self.fc1 = nn.Linear(num_channels*3, output_size) \n",
    "        \n",
    "    def forward(self, x):\n",
    " \n",
    "        # x = [max_len]\n",
    "        \n",
    "        x = x.unsqueeze(0)\n",
    "        # x = [1, max_len]\n",
    "        \n",
    "        x = self.embedding(x)\n",
    "        # x = [1, max_len, embedding_size]\n",
    "        \n",
    "        x = x.unsqueeze(0)\n",
    "        # x = [1, 1, max_len, embedding_size]\n",
    "        \n",
    "        x_conv1_3 = F.relu(self.conv1_3(x)).squeeze(3)\n",
    "        # after conv2d -> x_conv1_3 = [1, num_channels, max_len-2, 1]\n",
    "        # after squeeze(3) -> x_conv1_3 = [1, num_channels, max_len-2]\n",
    "        \n",
    "        x_conv1_4 = F.relu(self.conv1_4(x)).squeeze(3)\n",
    "        # x_conv1_4 = [1, num_channels, max_len-3]\n",
    "\n",
    "        x_conv1_5 = F.relu(self.conv1_5(x)).squeeze(3)\n",
    "        # x_conv1_5 = [1, num_channels, max_len-4]\n",
    "\n",
    "        x_conv1_3 = F.max_pool1d(x_conv1_3, kernel_size=x_conv1_3.size(2)).squeeze(2) #gets maximum value of each filter\n",
    "        # after max_pool -> x_conv1_3 = [1, num_channels, 1]\n",
    "        # after squeeze(2) -> x_conv1_3 = [1, num_channels]\n",
    "        \n",
    "        x_conv1_4 = F.max_pool1d(x_conv1_4, kernel_size=x_conv1_4.size(2)).squeeze(2)\n",
    "        # x_conv1_4 = [1, num_channels]\n",
    "\n",
    "        x_conv1_5 = F.max_pool1d(x_conv1_5, kernel_size=x_conv1_5.size(2)).squeeze(2)\n",
    "        # x_conv1_5 = [1, num_channels]\n",
    "\n",
    "        x = torch.cat((x_conv1_3, x_conv1_4, x_conv1_5),1)\n",
    "        # x_conv1_3 = [1, num_channels*3]\n",
    "\n",
    "        x = self.fc1(x)\n",
    "        # x = [1, output_size]\n",
    "        \n",
    "        return x"
   ]
  },
  {
   "cell_type": "code",
   "execution_count": 96,
   "metadata": {
    "collapsed": true
   },
   "outputs": [],
   "source": [
    "#create instance of Net class\n",
    "\n",
    "net = Net(len(vocab), max_len, 64, 100, 2)"
   ]
  },
  {
   "cell_type": "code",
   "execution_count": 97,
   "metadata": {
    "collapsed": true
   },
   "outputs": [],
   "source": [
    "#define some parameters\n",
    "\n",
    "epochs = 10\n",
    "batch_size = 32\n",
    "learning_rate = 0.001\n",
    "momentum = 0.9"
   ]
  },
  {
   "cell_type": "code",
   "execution_count": 98,
   "metadata": {
    "collapsed": true
   },
   "outputs": [],
   "source": [
    "#for plotting\n",
    "\n",
    "plot_loss = []\n",
    "plot_correct = []"
   ]
  },
  {
   "cell_type": "code",
   "execution_count": 99,
   "metadata": {
    "collapsed": true
   },
   "outputs": [],
   "source": [
    "#define loss and optimizer\n",
    "\n",
    "criterion = nn.CrossEntropyLoss() #cross entropy loss = log softmax + NLL loss\n",
    "optimizer = optim.SGD(net.parameters(), lr=learning_rate, momentum=momentum)"
   ]
  },
  {
   "cell_type": "code",
   "execution_count": 100,
   "metadata": {
    "collapsed": true
   },
   "outputs": [],
   "source": [
    "#training function\n",
    "\n",
    "def train(model, criterion, optimizer, x, y):\n",
    "    x = Variable(x, requires_grad=False)\n",
    "    y = Variable(y, requires_grad=False)\n",
    "    \n",
    "    # reset gradient\n",
    "    optimizer.zero_grad()\n",
    "\n",
    "    # forward pass\n",
    "    fx = model.forward(x)\n",
    "    \n",
    "    # get the loss\n",
    "    loss = criterion(fx, y)\n",
    "\n",
    "    # backward pass\n",
    "    loss.backward()\n",
    "\n",
    "    # update parameters\n",
    "    optimizer.step()\n",
    "\n",
    "    # return the actual loss data, not the Variable\n",
    "    return loss.data[0]"
   ]
  },
  {
   "cell_type": "code",
   "execution_count": 101,
   "metadata": {},
   "outputs": [
    {
     "name": "stdout",
     "output_type": "stream",
     "text": [
      "Epoch 01, loss = 0.139004\n",
      "Epoch 02, loss = 0.070662\n",
      "Epoch 03, loss = 0.022813\n",
      "Epoch 04, loss = 0.006891\n",
      "Epoch 05, loss = 0.002381\n",
      "Epoch 06, loss = 0.000977\n",
      "Epoch 07, loss = 0.000469\n",
      "Epoch 08, loss = 0.000258\n",
      "Epoch 09, loss = 0.000158\n",
      "Epoch 10, loss = 0.000106\n"
     ]
    }
   ],
   "source": [
    "num_examples = len(data)\n",
    "\n",
    "for e in range(1, epochs+1):\n",
    "    loss = 0.\n",
    "    for d in data[:2]:\n",
    "        x = torch.LongTensor(d[0]) #converts list of indices to tensor of indices\n",
    "        y = torch.LongTensor([d[1]]) #need the target class to be inside a list\n",
    "        loss += train(net, criterion, optimizer, x, y)\n",
    "    plot_loss.append(loss/num_examples)\n",
    "    print(\"Epoch %02d, loss = %f\" % (e, loss / num_examples))"
   ]
  },
  {
   "cell_type": "code",
   "execution_count": 102,
   "metadata": {},
   "outputs": [
    {
     "data": {
      "image/png": "[encoded data removed]",
      "text/plain": [
       "<matplotlib.figure.Figure at 0x7fc8cc2c7668>"
      ]
     },
     "metadata": {},
     "output_type": "display_data"
    }
   ],
   "source": [
    "import matplotlib.pyplot as plt\n",
    "\n",
    "plt.plot(plot_loss)\n",
    "plt.xlabel('Epoch')\n",
    "plt.ylabel('Avg. Loss per Epoch (on Training Set)')\n",
    "plt.show()"
   ]
  }
 ],
 "metadata": {
  "kernelspec": {
   "display_name": "Python 3",
   "language": "python",
   "name": "python3"
  },
  "language_info": {
   "codemirror_mode": {
    "name": "ipython",
    "version": 3
   },
   "file_extension": ".py",
   "mimetype": "text/x-python",
   "name": "python",
   "nbconvert_exporter": "python",
   "pygments_lexer": "ipython3",
   "version": "3.6.2"
  }
 },
 "nbformat": 4,
 "nbformat_minor": 2
}
