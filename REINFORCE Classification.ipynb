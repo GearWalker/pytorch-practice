{
 "cells": [
  {
   "cell_type": "code",
   "execution_count": 1,
   "metadata": {
    "collapsed": true
   },
   "outputs": [],
   "source": [
    "import torch\n",
    "import torch.nn as nn\n",
    "import torch.optim as optim\n",
    "from torch.autograd import Variable\n",
    "import torch.nn.functional as F\n",
    "\n",
    "import numpy as np"
   ]
  },
  {
   "cell_type": "code",
   "execution_count": 2,
   "metadata": {
    "collapsed": true
   },
   "outputs": [],
   "source": [
    "#get data\n",
    "\n",
    "from data_utils import load_mnist\n",
    "\n",
    "trX, teX, trY, teY = load_mnist(onehot=False)"
   ]
  },
  {
   "cell_type": "code",
   "execution_count": 3,
   "metadata": {},
   "outputs": [
    {
     "data": {
      "image/png": "[encoded data removed]",
      "text/plain": [
       "<matplotlib.figure.Figure at 0x7f570b854ba8>"
      ]
     },
     "metadata": {},
     "output_type": "display_data"
    }
   ],
   "source": [
    "#view data\n",
    "\n",
    "import matplotlib.pyplot as plt\n",
    "\n",
    "plt.imshow(trX[0].reshape(28,28), cmap=plt.get_cmap('gray')) #need cmap thing or else is weird colour\n",
    "plt.show()"
   ]
  },
  {
   "cell_type": "code",
   "execution_count": 4,
   "metadata": {},
   "outputs": [
    {
     "name": "stdout",
     "output_type": "stream",
     "text": [
      "torch.Size([60000, 784])\n"
     ]
    }
   ],
   "source": [
    "#convert from numpy arrays to torch tensors\n",
    "\n",
    "trX = torch.from_numpy(trX).float()\n",
    "teX = torch.from_numpy(teX).float()\n",
    "trY = torch.from_numpy(trY).long()\n",
    "teY = torch.from_numpy(teY).long()\n",
    "\n",
    "print(trX.shape)"
   ]
  },
  {
   "cell_type": "code",
   "execution_count": 5,
   "metadata": {
    "collapsed": true
   },
   "outputs": [],
   "source": [
    "#create model\n",
    "\n",
    "class Net(nn.Module):\n",
    "    def __init__(self, input_size, hidden_size, output_size):\n",
    "        super(Net, self).__init__()\n",
    "        \n",
    "        self.input_size = input_size\n",
    "        self.hidden_size = hidden_size\n",
    "        self.output_size = output_size\n",
    "        \n",
    "        self.i2h = nn.Linear(input_size, hidden_size)\n",
    "        self.h2h = nn.Linear(hidden_size, hidden_size)\n",
    "        self.h2o = nn.Linear(hidden_size, output_size)\n",
    "        \n",
    "    def forward(self, x):\n",
    "        x = F.relu(self.i2h(x))\n",
    "        x = F.relu(self.h2h(x))\n",
    "        x = self.h2o(x)\n",
    "        return F.softmax(x)"
   ]
  },
  {
   "cell_type": "code",
   "execution_count": 6,
   "metadata": {
    "collapsed": true
   },
   "outputs": [],
   "source": [
    "#define loss functions\n",
    "\n",
    "class REINFORCE(torch.nn.Module):\n",
    "    \"\"\"\n",
    "    REINFORCE Function\n",
    "    -(r-b)*log(p_i)\n",
    "    \n",
    "    From https://www.quora.com/What-is-the-REINFORCE-algorithm:\n",
    "    \"Basically it increases the probability that a policy will make a rewarding action given a state.\"\n",
    "    \n",
    "    Your policy here is your neural network.\n",
    "    The state is the input.\n",
    "    The action is the output.\n",
    "    \n",
    "    http://www-anw.cs.umass.edu/~barto/courses/cs687/williams92simple.pdf\n",
    "    http://www.scholarpedia.org/article/Policy_gradient_methods\n",
    "    https://stats.stackexchange.com/questions/137246/any-example-code-of-reinforce-algorithm-proposed-by-williams\n",
    "    https://stats.stackexchange.com/questions/239502/deriving-reinforce-algorithm-from-policy-gradient-theorem-for-the-episodic-case\n",
    "    \"\"\"\n",
    "\n",
    "    def __init__(self, negative_rewards=False):\n",
    "        super(REINFORCE, self).__init__()\n",
    "        self.negative_rewards = negative_rewards\n",
    "\n",
    "    def forward(self, outputs, labels):\n",
    "        values, predictions = torch.max(outputs, 1) #what the network predicts the digit is\n",
    "        if self.negative_rewards:\n",
    "            pos_reward = (predictions == labels).float() #how many it got right, need to cast from bytetensor to floattensor\n",
    "            neg_reward = (predictions != labels).float()*(-1)\n",
    "            reward = pos_reward + neg_reward\n",
    "        else:\n",
    "            reward = (predictions == labels).float()\n",
    "        baseline = reward.sum()/len(labels) #proportion it got right, i.e average reward\n",
    "        adv = reward - baseline #advantage\n",
    "        logit = torch.log(values)\n",
    "        loss = -adv*logit #loss = -(r-b)*grad(log(pi))\n",
    "\n",
    "        return loss.sum()/len(labels), reward.sum()/len(labels)"
   ]
  },
  {
   "cell_type": "code",
   "execution_count": 7,
   "metadata": {
    "collapsed": true
   },
   "outputs": [],
   "source": [
    "#create instance of Net class\n",
    "\n",
    "net = Net(784, 100, 10)"
   ]
  },
  {
   "cell_type": "code",
   "execution_count": 8,
   "metadata": {
    "collapsed": true
   },
   "outputs": [],
   "source": [
    "#define some parameters\n",
    "\n",
    "epochs = 10\n",
    "batch_size = 32\n",
    "learning_rate = 0.001\n",
    "momentum = 0.9"
   ]
  },
  {
   "cell_type": "code",
   "execution_count": 9,
   "metadata": {},
   "outputs": [],
   "source": [
    "#define loss and optimizer\n",
    "\n",
    "criterion = REINFORCE(negative_rewards=True)\n",
    "optimizer = optim.SGD(net.parameters(), lr=learning_rate, momentum=momentum)"
   ]
  },
  {
   "cell_type": "code",
   "execution_count": 10,
   "metadata": {
    "collapsed": true
   },
   "outputs": [],
   "source": [
    "#training function\n",
    "\n",
    "def train(model, criterion, optimizer, x, y):\n",
    "    x = Variable(x, requires_grad=False)\n",
    "    y = Variable(y, requires_grad=False)\n",
    "    \n",
    "    # Reset gradient\n",
    "    optimizer.zero_grad()\n",
    "\n",
    "    # Forward\n",
    "    fx = model.forward(x)\n",
    "    \n",
    "    loss, reward = criterion(fx, y)\n",
    "\n",
    "    # Backward\n",
    "    loss.backward()\n",
    "\n",
    "    # Update parameters\n",
    "    optimizer.step()\n",
    "\n",
    "    return loss.data[0], reward.data[0]"
   ]
  },
  {
   "cell_type": "code",
   "execution_count": 11,
   "metadata": {
    "collapsed": true
   },
   "outputs": [],
   "source": [
    "#make predictions\n",
    "\n",
    "def predict(model, x, y):\n",
    "    x = Variable(x, requires_grad=False)\n",
    "    outputs = model(x)\n",
    "    _, predicted = torch.max(outputs.data, 1) #for each output, get the predicted value (torch.max returns (index, value) tuple)\n",
    "    correct = (predicted == y) #how many predicted values equal the labels\n",
    "    return correct.sum() "
   ]
  },
  {
   "cell_type": "code",
   "execution_count": 12,
   "metadata": {},
   "outputs": [
    {
     "name": "stdout",
     "output_type": "stream",
     "text": [
      "Epoch 01, loss = -2.399233, avg. reward = 5.531000, accuracy = 85.05%\n",
      "Epoch 02, loss = -2.966393, avg. reward = 7.587000, accuracy = 88.41%\n",
      "Epoch 03, loss = -3.012029, avg. reward = 7.910333, accuracy = 91.32%\n",
      "Epoch 04, loss = -2.865003, avg. reward = 8.149667, accuracy = 92.44%\n",
      "Epoch 05, loss = -2.677641, avg. reward = 8.343000, accuracy = 91.75%\n",
      "Epoch 06, loss = -2.655949, avg. reward = 8.419000, accuracy = 92.96%\n",
      "Epoch 07, loss = -2.571174, avg. reward = 8.506000, accuracy = 93.00%\n",
      "Epoch 08, loss = -2.526717, avg. reward = 8.554667, accuracy = 93.67%\n",
      "Epoch 09, loss = -2.423262, avg. reward = 8.641667, accuracy = 93.74%\n",
      "Epoch 10, loss = -2.415782, avg. reward = 8.665000, accuracy = 93.27%\n"
     ]
    }
   ],
   "source": [
    "#run the training\n",
    "\n",
    "num_examples = trX.shape[0]\n",
    "num_batches = num_examples // batch_size\n",
    "\n",
    "for e in range(1, epochs+1):\n",
    "    loss, reward = 0, 0\n",
    "    for k in range(num_batches):\n",
    "        start, end = k * batch_size, (k + 1) * batch_size\n",
    "        loss_batch, reward_batch = train(net, criterion, optimizer, trX[start:end], trY[start:end])\n",
    "        loss += loss_batch\n",
    "        reward += reward_batch\n",
    "    correct = predict(net, teX, teY)\n",
    "\n",
    "    print(\"Epoch %02d, loss = %f, avg. reward = %f, accuracy = %.2f%%\" % (e, loss / num_batches, reward / num_batches, correct/teX.shape[0]*100))"
   ]
  },
  {
   "cell_type": "code",
   "execution_count": null,
   "metadata": {
    "collapsed": true
   },
   "outputs": [],
   "source": []
  }
 ],
 "metadata": {
  "kernelspec": {
   "display_name": "Python 3",
   "language": "python",
   "name": "python3"
  },
  "language_info": {
   "codemirror_mode": {
    "name": "ipython",
    "version": 3
   },
   "file_extension": ".py",
   "mimetype": "text/x-python",
   "name": "python",
   "nbconvert_exporter": "python",
   "pygments_lexer": "ipython3",
   "version": "3.5.4"
  }
 },
 "nbformat": 4,
 "nbformat_minor": 2
}
