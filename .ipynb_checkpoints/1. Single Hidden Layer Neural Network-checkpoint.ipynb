{
 "cells": [
  {
   "cell_type": "code",
   "execution_count": 3,
   "metadata": {
    "collapsed": true
   },
   "outputs": [],
   "source": [
    "%matplotlib inline\n",
    "import torch\n",
    "import torch.nn as nn\n",
    "import torch.optim as optim\n",
    "from torch.autograd import Variable\n",
    "import torch.nn.functional as F\n",
    "\n",
    "import numpy as np"
   ]
  },
  {
   "cell_type": "code",
   "execution_count": 17,
   "metadata": {},
   "outputs": [
    {
     "name": "stdout",
     "output_type": "stream",
     "text": [
      "Creating the directory 'datasets/mnist' ...\n",
      "Downloading from 'http://yann.lecun.com/exdb/mnist/train-images-idx3-ubyte.gz' ...\n",
      "Downloading from 'http://yann.lecun.com/exdb/mnist/train-labels-idx1-ubyte.gz' ...\n",
      "Downloading from 'http://yann.lecun.com/exdb/mnist/t10k-images-idx3-ubyte.gz' ...\n",
      "Downloading from 'http://yann.lecun.com/exdb/mnist/t10k-labels-idx1-ubyte.gz' ...\n"
     ]
    }
   ],
   "source": [
    "#get data\n",
    "\n",
    "from data_utils import load_mnist\n",
    "\n",
    "trX, teX, trY, teY = load_mnist(onehot=False)"
   ]
  },
  {
   "cell_type": "code",
   "execution_count": 18,
   "metadata": {},
   "outputs": [
    {
     "data": {
      "text/plain": [
       "<matplotlib.image.AxesImage at 0x7f1f801d6358>"
      ]
     },
     "execution_count": 18,
     "metadata": {},
     "output_type": "execute_result"
    },
    {
     "data": {
      "image/png": "[encoded data removed]",
      "text/plain": [
       "<matplotlib.figure.Figure at 0x7f1fc9ccb2b0>"
      ]
     },
     "metadata": {},
     "output_type": "display_data"
    }
   ],
   "source": [
    "#view data\n",
    "\n",
    "import matplotlib.pyplot as plt\n",
    "\n",
    "plt.imshow(trX[0].reshape(28,28), cmap=plt.get_cmap('gray')) #need cmap thing or else is weird colour"
   ]
  },
  {
   "cell_type": "code",
   "execution_count": 19,
   "metadata": {
    "collapsed": true
   },
   "outputs": [],
   "source": [
    "#convert from numpy arrays to torch tensors\n",
    "\n",
    "trX = torch.from_numpy(trX).float()\n",
    "teX = torch.from_numpy(teX).float()\n",
    "trY = torch.from_numpy(trY).long()\n",
    "teY = torch.from_numpy(teY).long()"
   ]
  },
  {
   "cell_type": "code",
   "execution_count": 20,
   "metadata": {
    "collapsed": true
   },
   "outputs": [],
   "source": [
    "#create model\n",
    "\n",
    "class Net(nn.Module):\n",
    "    def __init__(self, input_size, hidden_size, output_size):\n",
    "        super(Net, self).__init__()\n",
    "        \n",
    "        self.input_size = input_size\n",
    "        self.hidden_size = hidden_size\n",
    "        self.output_size = output_size\n",
    "        \n",
    "        self.i2h = nn.Linear(input_size, hidden_size)\n",
    "        self.h2o = nn.Linear(hidden_size, output_size)\n",
    "        \n",
    "        self.logsoftmax = nn.LogSoftmax()\n",
    "        \n",
    "    def forward(self, x):\n",
    "        x = F.relu(self.i2h(x))\n",
    "        x = self.logsoftmax(self.h2o(x))\n",
    "        return x"
   ]
  },
  {
   "cell_type": "code",
   "execution_count": 21,
   "metadata": {
    "collapsed": true
   },
   "outputs": [],
   "source": [
    "#create instance of Net class\n",
    "\n",
    "net = Net(784, 100, 10)"
   ]
  },
  {
   "cell_type": "code",
   "execution_count": 22,
   "metadata": {
    "collapsed": true
   },
   "outputs": [],
   "source": [
    "#define some parameters\n",
    "\n",
    "epochs = 10\n",
    "batch_size = 32\n",
    "learning_rate = 0.001\n",
    "momentum = 0.9"
   ]
  },
  {
   "cell_type": "code",
   "execution_count": 23,
   "metadata": {
    "collapsed": true
   },
   "outputs": [],
   "source": [
    "#for plotting\n",
    "\n",
    "plot_loss = []\n",
    "plot_correct = []"
   ]
  },
  {
   "cell_type": "code",
   "execution_count": 24,
   "metadata": {
    "collapsed": true
   },
   "outputs": [],
   "source": [
    "#define loss and optimizer\n",
    "\n",
    "criterion = nn.NLLLoss()\n",
    "optimizer = optim.SGD(net.parameters(), lr=learning_rate, momentum=momentum)"
   ]
  },
  {
   "cell_type": "code",
   "execution_count": 25,
   "metadata": {
    "collapsed": true
   },
   "outputs": [],
   "source": [
    "#training function\n",
    "\n",
    "def train(model, criterion, optimizer, x, y):\n",
    "    x = Variable(x, requires_grad=False)\n",
    "    y = Variable(y, requires_grad=False)\n",
    "    \n",
    "    # Reset gradient\n",
    "    optimizer.zero_grad()\n",
    "\n",
    "    # Forward\n",
    "    fx = model.forward(x)\n",
    "    loss = criterion(fx, y)\n",
    "\n",
    "    # Backward\n",
    "    loss.backward()\n",
    "\n",
    "    # Update parameters\n",
    "    optimizer.step()\n",
    "\n",
    "    return loss.data[0]"
   ]
  },
  {
   "cell_type": "code",
   "execution_count": 26,
   "metadata": {
    "collapsed": true
   },
   "outputs": [],
   "source": [
    "#make predictions\n",
    "\n",
    "def predict(model, x, y):\n",
    "    x = Variable(x, requires_grad=False)\n",
    "    outputs = model(x)\n",
    "    _, predicted = torch.max(outputs.data, 1) #for each output, get the predicted value (torch.max returns (index, value) tuple)\n",
    "    correct = (predicted == y) #how many predicted values equal the labels\n",
    "    return correct.sum() "
   ]
  },
  {
   "cell_type": "code",
   "execution_count": null,
   "metadata": {},
   "outputs": [
    {
     "name": "stdout",
     "output_type": "stream",
     "text": [
      "Epoch 01, loss = 0.920811, accuracy = 89.23%\n",
      "Epoch 02, loss = 0.380272, accuracy = 90.89%\n",
      "Epoch 03, loss = 0.324525, accuracy = 91.79%\n",
      "Epoch 04, loss = 0.293579, accuracy = 92.50%\n",
      "Epoch 05, loss = 0.270137, accuracy = 92.90%\n",
      "Epoch 06, loss = 0.250743, accuracy = 93.26%\n"
     ]
    }
   ],
   "source": [
    "#run the training\n",
    "\n",
    "num_examples = trX.shape[0]\n",
    "\n",
    "for e in range(1, epochs+1):\n",
    "    loss = 0.\n",
    "    num_batches = num_examples // batch_size\n",
    "    for k in range(num_batches):\n",
    "        start, end = k * batch_size, (k + 1) * batch_size\n",
    "        loss += train(net, criterion, optimizer, trX[start:end], trY[start:end])\n",
    "    correct = predict(net, teX, teY)\n",
    "    plot_loss.append(loss/num_batches)\n",
    "    plot_correct.append(correct/teX.shape[0]*100)\n",
    "    print(\"Epoch %02d, loss = %f, accuracy = %.2f%%\" % (e, loss / num_batches, correct/teX.shape[0]*100))"
   ]
  },
  {
   "cell_type": "code",
   "execution_count": null,
   "metadata": {
    "collapsed": true
   },
   "outputs": [],
   "source": [
    "plt.plot(plot_loss)\n",
    "plt.xlabel('Epoch')\n",
    "plt.ylabel('Avg. Loss per Epoch (on Training Set)')\n",
    "print(len(plot_loss))"
   ]
  },
  {
   "cell_type": "code",
   "execution_count": null,
   "metadata": {
    "collapsed": true
   },
   "outputs": [],
   "source": [
    "plt.plot(plot_correct)\n",
    "plt.xlabel('Epoch')\n",
    "plt.ylabel('Accuracy per Epoch (on Test Set)')\n",
    "print(len(plot_correct))"
   ]
  },
  {
   "cell_type": "code",
   "execution_count": null,
   "metadata": {
    "collapsed": true
   },
   "outputs": [],
   "source": []
  }
 ],
 "metadata": {
  "kernelspec": {
   "display_name": "Python 3",
   "language": "python",
   "name": "python3"
  },
  "language_info": {
   "codemirror_mode": {
    "name": "ipython",
    "version": 3
   },
   "file_extension": ".py",
   "mimetype": "text/x-python",
   "name": "python",
   "nbconvert_exporter": "python",
   "pygments_lexer": "ipython3",
   "version": "3.6.2"
  }
 },
 "nbformat": 4,
 "nbformat_minor": 2
}
